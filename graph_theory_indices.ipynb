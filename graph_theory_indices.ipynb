{
 "cells": [
  {
   "cell_type": "markdown",
   "metadata": {},
   "source": [
    "## 2. Graph theory indices"
   ]
  },
  {
   "cell_type": "code",
   "execution_count": 23,
   "metadata": {},
   "outputs": [],
   "source": [
    "%load_ext autoreload\n",
    "%autoreload 2"
   ]
  },
  {
   "cell_type": "code",
   "execution_count": 24,
   "metadata": {},
   "outputs": [],
   "source": [
    "import networkx as nx\n",
    "\n",
    "from graph_theory_indices import GraphTheoryIndices as GTI"
   ]
  },
  {
   "cell_type": "code",
   "execution_count": 4,
   "metadata": {},
   "outputs": [],
   "source": [
    "open_eyes_path = 'data/S002/S002R01.edf'\n",
    "closed_eyes_path = 'data/S002/S002R02.edf'"
   ]
  },
  {
   "cell_type": "code",
   "execution_count": 5,
   "metadata": {},
   "outputs": [
    {
     "name": "stdout",
     "output_type": "stream",
     "text": [
      "Extracting EDF parameters from C:\\Users\\paolo\\dev\\data_science\\BIO\\Bioinf2\\data\\S002\\S002R01.edf...\n",
      "EDF file detected\n",
      "Setting channel info structure...\n",
      "Creating raw.info structure...\n",
      "EDF data loaded!\n"
     ]
    }
   ],
   "source": [
    "open_eyes_gti = GTI(open_eyes_path)"
   ]
  },
  {
   "cell_type": "code",
   "execution_count": 6,
   "metadata": {},
   "outputs": [
    {
     "name": "stdout",
     "output_type": "stream",
     "text": [
      "Extracting EDF parameters from C:\\Users\\paolo\\dev\\data_science\\BIO\\Bioinf2\\data\\S002\\S002R02.edf...\n",
      "EDF file detected\n",
      "Setting channel info structure...\n",
      "Creating raw.info structure...\n",
      "EDF data loaded!\n"
     ]
    }
   ],
   "source": [
    "closed_eyes_gti = GTI(closed_eyes_path)"
   ]
  },
  {
   "cell_type": "markdown",
   "metadata": {},
   "source": [
    "### 2.1 (mandatory)\n",
    "Compute binary global (average clustering coefficient, average path length) and local (degree, in/out-degree) graph indices. List the highest 10 channels for local indices."
   ]
  },
  {
   "cell_type": "markdown",
   "metadata": {},
   "source": [
    "#### Open eyes"
   ]
  },
  {
   "cell_type": "code",
   "execution_count": 78,
   "metadata": {},
   "outputs": [
    {
     "name": "stdout",
     "output_type": "stream",
     "text": [
      "##### BINARY GLOBAL INDICES #####\n",
      "\n",
      "Average Clustering Coefficient: 0.279\n",
      "Average Path Length: 2.533\n",
      "##### BINARY LOCAL INDICES #####\n",
      "\n",
      "Degree (first 10): \t [('Af7', 45), ('T7', 43), ('Iz', 42), ('Oz', 41), ('Cp6', 39), ('P4', 38), ('F7', 37), ('C4', 34), ('Cp1', 34), ('Af8', 34)] \n",
      "\n",
      "In-Degree (first 10): \t [('Cp6', 32), ('P4', 30), ('Iz', 30), ('C4', 29), ('Oz', 29), ('P7', 26), ('Cp1', 25), ('C3', 24), ('F2', 23), ('Po3', 23)] \n",
      "\n",
      "Out-Degree (first 10): \t [('T7', 43), ('Af7', 38), ('Af8', 32), ('F7', 30), ('Fp1', 26), ('Fp2', 23), ('F8', 21), ('Fpz', 20), ('Af4', 20), ('F5', 20)] \n",
      "\n"
     ]
    }
   ],
   "source": [
    "open_eyes_gti.compute_connectivity(freq=10, threshold=0.2)\n",
    "\n",
    "avg_cl_coef, avg_path_len = open_eyes_gti.compute_global_indices()\n",
    "print(\"##### BINARY GLOBAL INDICES #####\\n\")\n",
    "print(\"Average Clustering Coefficient: %.3f\" % (avg_cl_coef))\n",
    "print(\"Average Path Length: %.3f\" % (avg_path_len))\n",
    "\n",
    "degree, in_degree, out_degree = open_eyes_gti.compute_local_indices()\n",
    "print(\"\\n##### BINARY LOCAL INDICES #####\\n\")\n",
    "print(\"Degree (first 10): \\t\", degree[:10], \"\\n\")\n",
    "print(\"In-Degree (first 10): \\t\", in_degree[:10], \"\\n\")\n",
    "print(\"Out-Degree (first 10): \\t\", out_degree[:10], \"\\n\")"
   ]
  },
  {
   "cell_type": "markdown",
   "metadata": {},
   "source": [
    "#### Closed eyes"
   ]
  },
  {
   "cell_type": "code",
   "execution_count": 77,
   "metadata": {},
   "outputs": [
    {
     "name": "stdout",
     "output_type": "stream",
     "text": [
      "##### BINARY GLOBAL INDICES #####\n",
      "\n",
      "Average Clustering Coefficient: 0.276\n",
      "Average Path Length: 2.115\n",
      "##### BINARY LOCAL INDICES #####\n",
      "\n",
      "Degree (first 10): \t [('Iz', 49), ('Oz', 45), ('Poz', 44), ('Po4', 44), ('T7', 37), ('Po8', 37), ('Fc3', 36), ('C4', 36), ('O2', 36), ('Af7', 34)] \n",
      "\n",
      "In-Degree (first 10): \t [('Iz', 33), ('C4', 30), ('Oz', 30), ('Po4', 29), ('Fc3', 26), ('Poz', 26), ('P4', 24), ('P8', 24), ('Po8', 24), ('Cp6', 23)] \n",
      "\n",
      "Out-Degree (first 10): \t [('T7', 37), ('Af7', 28), ('O2', 25), ('Fp1', 24), ('Af3', 23), ('F5', 21), ('Fp2', 20), ('O1', 20), ('Af8', 18), ('F1', 18)] \n",
      "\n"
     ]
    }
   ],
   "source": [
    "closed_eyes_gti.compute_connectivity(freq=10, threshold=0.2, method=\"DTF\")\n",
    "\n",
    "avg_cl_coef, avg_path_len = closed_eyes_gti.compute_global_indices()\n",
    "print(\"##### BINARY GLOBAL INDICES #####\\n\")\n",
    "print(\"Average Clustering Coefficient: %.3f\" % (avg_cl_coef))\n",
    "print(\"Average Path Length: %.3f\" % (avg_path_len))\n",
    "\n",
    "degree, in_degree, out_degree = closed_eyes_gti.compute_local_indices()\n",
    "print(\"\\n##### BINARY LOCAL INDICES #####\\n\")\n",
    "print(\"Degree (first 10): \\t\", degree[:10], \"\\n\")\n",
    "print(\"In-Degree (first 10): \\t\", in_degree[:10], \"\\n\")\n",
    "print(\"Out-Degree (first 10): \\t\", out_degree[:10], \"\\n\")"
   ]
  },
  {
   "cell_type": "markdown",
   "metadata": {},
   "source": [
    "### 2.2"
   ]
  },
  {
   "cell_type": "markdown",
   "metadata": {},
   "source": [
    "(class ‘D’) Search in the literature a definition of small-worldness index (i.e. an index\n",
    "describing the small-world organization of a network) and compute it."
   ]
  },
  {
   "cell_type": "markdown",
   "metadata": {},
   "source": [
    "A **small-world network** is a type of mathematical graph in which most nodes are not neighbors of one another, but the neighbors of any given node are likely to be neighbors of each other and most nodes can be reached from every other node by a small number of hops or steps.  \n",
    "This means that, despite the size of the network, each pair of nodes is connected by a not large number of edges (*“Six degrees of separation”*, S. Milgram, 1967).\n",
    "\n",
    "A network of \"large\" dimensions has the property of a small world (small world) if its average\n",
    "path length is \"small\":\n",
    "$$L << N \\text{ per } N >> 1$$\n",
    "with $L =$ average path length and $N =$ number of nodes in the network.\n",
    "\n",
    "Finally, a network G is defined small-world if $L_G > L_{rand}$ and $C_G >> C_{rand}$ where:  \n",
    "- $L_G, C_G$ represent respectively the average path length and the clustering coefficient of the graph G;\n",
    "- $L_{rand}, C_{rand}$ represent respectively the average path length and the clustering coefficient in random graphs.\n",
    "\n",
    "The **small-worldness index** is defined as:\n",
    "$$S = \\frac{C_G / C_{rand}}{L_C / L_{rand}}, \\text{ with } S>>1.$$"
   ]
  },
  {
   "cell_type": "markdown",
   "metadata": {},
   "source": [
    "#### Open eyes"
   ]
  },
  {
   "cell_type": "code",
   "execution_count": 100,
   "metadata": {},
   "outputs": [
    {
     "name": "stdout",
     "output_type": "stream",
     "text": [
      "Computing random graphs...\n",
      "Computing SMI...\n",
      "Completed!\n",
      "Small-worldness Index: 0.965\n"
     ]
    }
   ],
   "source": [
    "open_eyes_gti.compute_connectivity(freq=10, threshold=0.2)\n",
    "open_eyes_gti.compute_SMI()\n",
    "print(\"Small-worldness Index: %.3f\" % (open_eyes_gti.SMI))"
   ]
  },
  {
   "cell_type": "markdown",
   "metadata": {},
   "source": [
    "#### Closed eyes"
   ]
  },
  {
   "cell_type": "code",
   "execution_count": 101,
   "metadata": {},
   "outputs": [
    {
     "name": "stdout",
     "output_type": "stream",
     "text": [
      "Computing random graphs...\n",
      "Computing SMI...\n",
      "Completed!\n",
      "Small-worldness Index: 1.054\n"
     ]
    }
   ],
   "source": [
    "closed_eyes_gti.compute_connectivity(freq=10, threshold=0.2)\n",
    "closed_eyes_gti.compute_SMI()\n",
    "print(\"Small-worldness Index: %.3f\" % (closed_eyes_gti.SMI))"
   ]
  },
  {
   "cell_type": "markdown",
   "metadata": {},
   "source": [
    "Both the networks have a **small-worldness index** near 1. This means that we cannot precisely classify them as small world networks."
   ]
  },
  {
   "cell_type": "markdown",
   "metadata": {},
   "source": [
    "### 2.3"
   ]
  },
  {
   "cell_type": "markdown",
   "metadata": {},
   "source": [
    "(class ‘B’) Compare the global indices extracted from PDC and DTF connectivity estimations."
   ]
  },
  {
   "cell_type": "markdown",
   "metadata": {},
   "source": [
    "Since we have already computed the global indices from PDC in ex. 2.1, here we are just going to compute them from DTF. "
   ]
  },
  {
   "cell_type": "markdown",
   "metadata": {},
   "source": [
    "#### Open eyes"
   ]
  },
  {
   "cell_type": "code",
   "execution_count": 73,
   "metadata": {},
   "outputs": [
    {
     "name": "stdout",
     "output_type": "stream",
     "text": [
      "##### BINARY GLOBAL INDICES #####\n",
      "\n",
      "Average Clustering Coefficient: 0.454\n",
      "Average Path Length: 0.892\n",
      "\n",
      "##### BINARY LOCAL INDICES #####\n",
      "\n",
      "Degree (first 10): \t [('Oz', 75), ('Iz', 71), ('Po4', 70), ('Cp1', 68), ('P4', 59), ('C4', 51), ('P8', 51), ('P7', 49), ('P6', 46), ('F2', 41)] \n",
      "\n",
      "In-Degree (first 10): \t [('Oz', 63), ('Po4', 62), ('Iz', 62), ('Cp1', 56), ('P4', 46), ('P8', 43), ('P7', 41), ('C4', 39), ('P6', 35), ('F2', 33)] \n",
      "\n",
      "Out-Degree (first 10): \t [('T7', 25), ('Fp1', 22), ('Af7', 21), ('Fpz', 20), ('F7', 18), ('Ft8', 18), ('T8', 18), ('Fc5', 17), ('Fc1', 17), ('Ft7', 17)] \n",
      "\n"
     ]
    }
   ],
   "source": [
    "open_eyes_gti.compute_connectivity(freq=10, threshold=0.2, method=\"DTF\")\n",
    "\n",
    "avg_cl_coef, avg_path_len = open_eyes_gti.compute_global_indices()\n",
    "print(\"##### BINARY GLOBAL INDICES #####\\n\")\n",
    "print(\"Average Clustering Coefficient: %.3f\" % (avg_cl_coef))\n",
    "print(\"Average Path Length: %.3f\" % (avg_path_len))\n",
    "\n",
    "degree, in_degree, out_degree = closed_eyes_gti.compute_local_indices()\n",
    "print(\"\\n##### BINARY LOCAL INDICES #####\\n\")\n",
    "print(\"Degree (first 10): \\t\", degree[:10], \"\\n\")\n",
    "print(\"In-Degree (first 10): \\t\", in_degree[:10], \"\\n\")\n",
    "print(\"Out-Degree (first 10): \\t\", out_degree[:10], \"\\n\")"
   ]
  },
  {
   "cell_type": "markdown",
   "metadata": {},
   "source": [
    "#### Closed eyes"
   ]
  },
  {
   "cell_type": "code",
   "execution_count": 76,
   "metadata": {},
   "outputs": [
    {
     "name": "stdout",
     "output_type": "stream",
     "text": [
      "##### BINARY GLOBAL INDICES #####\n",
      "\n",
      "Average Clustering Coefficient: 0.461\n",
      "Average Path Length: 0.617\n",
      "\n",
      "##### BINARY LOCAL INDICES #####\n",
      "\n",
      "Degree (first 10): \t [('Oz', 73), ('Iz', 71), ('P8', 69), ('Po4', 68), ('C4', 64), ('Poz', 56), ('Fc3', 52), ('P4', 52), ('P6', 52), ('Po8', 48)] \n",
      "\n",
      "In-Degree (first 10): \t [('Oz', 63), ('Iz', 63), ('P8', 61), ('Po4', 61), ('C4', 54), ('Poz', 48), ('P4', 43), ('P6', 43), ('Cp6', 39), ('P7', 39)] \n",
      "\n",
      "Out-Degree (first 10): \t [('Af7', 20), ('Fp1', 19), ('Fpz', 18), ('Fp2', 18), ('Af3', 17), ('Afz', 17), ('F7', 16), ('F5', 16), ('F3', 16), ('Fc5', 15)] \n",
      "\n"
     ]
    }
   ],
   "source": [
    "closed_eyes_gti.compute_connectivity(freq=10, threshold=0.2, method=\"DTF\")\n",
    "\n",
    "avg_cl_coef, avg_path_len = closed_eyes_gti.compute_global_indices()\n",
    "print(\"##### BINARY GLOBAL INDICES #####\\n\")\n",
    "print(\"Average Clustering Coefficient: %.3f\" % (avg_cl_coef))\n",
    "print(\"Average Path Length: %.3f\" % (avg_path_len))\n",
    "\n",
    "degree, in_degree, out_degree = closed_eyes_gti.compute_local_indices()\n",
    "print(\"\\n##### BINARY LOCAL INDICES #####\\n\")\n",
    "print(\"Degree (first 10): \\t\", degree[:10], \"\\n\")\n",
    "print(\"In-Degree (first 10): \\t\", in_degree[:10], \"\\n\")\n",
    "print(\"Out-Degree (first 10): \\t\", out_degree[:10], \"\\n\")"
   ]
  },
  {
   "cell_type": "markdown",
   "metadata": {},
   "source": [
    "### 2.4"
   ]
  },
  {
   "cell_type": "markdown",
   "metadata": {},
   "source": [
    "(class ‘C’) Study the behaviour of global graph indices in function of network density (see point 1.3 for density values)."
   ]
  },
  {
   "cell_type": "markdown",
   "metadata": {},
   "source": [
    "#### Open eyes"
   ]
  },
  {
   "cell_type": "code",
   "execution_count": 89,
   "metadata": {},
   "outputs": [
    {
     "name": "stdout",
     "output_type": "stream",
     "text": [
      "Computing for t = 0.01\n",
      "Computing for t = 0.05\n",
      "Computing for t = 0.1\n",
      "Computing for t = 0.2\n",
      "Computing for t = 0.3\n",
      "Computing for t = 0.5\n",
      "Time passed: 56 seconds\n"
     ]
    },
    {
     "data": {
      "image/png": "[encoded data removed]",
      "text/plain": [
       "<Figure size 432x288 with 1 Axes>"
      ]
     },
     "metadata": {
      "needs_background": "light"
     },
     "output_type": "display_data"
    },
    {
     "data": {
      "image/png": "[encoded data removed]",
      "text/plain": [
       "<Figure size 432x288 with 1 Axes>"
      ]
     },
     "metadata": {
      "needs_background": "light"
     },
     "output_type": "display_data"
    }
   ],
   "source": [
    "thresholds = [0.01, 0.05, 0.1, 0.2, 0.3, 0.5]\n",
    "open_eyes_gti.plot_global_indices(thresholds)"
   ]
  },
  {
   "cell_type": "markdown",
   "metadata": {},
   "source": [
    "#### Closed eyes"
   ]
  },
  {
   "cell_type": "code",
   "execution_count": 90,
   "metadata": {},
   "outputs": [
    {
     "name": "stdout",
     "output_type": "stream",
     "text": [
      "Computing for t = 0.01\n",
      "Computing for t = 0.05\n",
      "Computing for t = 0.1\n",
      "Computing for t = 0.2\n",
      "Computing for t = 0.3\n",
      "Computing for t = 0.5\n",
      "Time passed: 57 seconds\n"
     ]
    },
    {
     "data": {
      "image/png": "[encoded data removed]",
      "text/plain": [
       "<Figure size 432x288 with 1 Axes>"
      ]
     },
     "metadata": {
      "needs_background": "light"
     },
     "output_type": "display_data"
    },
    {
     "data": {
      "image/png": "[encoded data removed]",
      "text/plain": [
       "<Figure size 432x288 with 1 Axes>"
      ]
     },
     "metadata": {
      "needs_background": "light"
     },
     "output_type": "display_data"
    }
   ],
   "source": [
    "thresholds = [0.01, 0.05, 0.1, 0.2, 0.3, 0.5]\n",
    "closed_eyes_gti.plot_global_indices(thresholds)"
   ]
  },
  {
   "cell_type": "markdown",
   "metadata": {},
   "source": [
    "### 2.7"
   ]
  },
  {
   "cell_type": "markdown",
   "metadata": {},
   "source": [
    "(class ‘C’) Perform point 2.1 considering the weighted version of the graph indices definitions."
   ]
  },
  {
   "cell_type": "markdown",
   "metadata": {},
   "source": [
    "#### Open eyes"
   ]
  },
  {
   "cell_type": "code",
   "execution_count": 26,
   "metadata": {},
   "outputs": [
    {
     "name": "stdout",
     "output_type": "stream",
     "text": [
      "##### BINARY GLOBAL INDICES #####\n",
      "\n",
      "Average Clustering Coefficient: 0.071\n",
      "Average Path Length: 0.358\n",
      "\n",
      "##### BINARY LOCAL INDICES #####\n",
      "\n",
      "Degree (first 10): \t [('Af7', 45), ('T7', 43), ('Iz', 42), ('Oz', 41), ('Cp6', 39), ('P4', 38), ('F7', 37), ('C4', 34), ('Cp1', 34), ('Af8', 34)] \n",
      "\n",
      "In-Degree (first 10): \t [('Cp6', 32), ('P4', 30), ('Iz', 30), ('C4', 29), ('Oz', 29), ('P7', 26), ('Cp1', 25), ('C3', 24), ('F2', 23), ('Po3', 23)] \n",
      "\n",
      "Out-Degree (first 10): \t [('T7', 43), ('Af7', 38), ('Af8', 32), ('F7', 30), ('Fp1', 26), ('Fp2', 23), ('F8', 21), ('Fpz', 20), ('Af4', 20), ('F5', 20)] \n",
      "\n"
     ]
    }
   ],
   "source": [
    "open_eyes_gti.compute_connectivity(freq=10, threshold=0.2)\n",
    "\n",
    "avg_cl_coef, avg_path_len = open_eyes_gti.compute_global_indices(True)\n",
    "print(\"##### BINARY GLOBAL INDICES #####\\n\")\n",
    "print(\"Average Clustering Coefficient: %.3f\" % (avg_cl_coef))\n",
    "print(\"Average Path Length: %.3f\" % (avg_path_len))\n",
    "\n",
    "degree, in_degree, out_degree = open_eyes_gti.compute_local_indices(True)\n",
    "print(\"\\n##### BINARY LOCAL INDICES #####\\n\")\n",
    "print(\"Degree (first 10): \\t\", degree[:10], \"\\n\")\n",
    "print(\"In-Degree (first 10): \\t\", in_degree[:10], \"\\n\")\n",
    "print(\"Out-Degree (first 10): \\t\", out_degree[:10], \"\\n\")"
   ]
  },
  {
   "cell_type": "markdown",
   "metadata": {},
   "source": [
    "#### Closed eyes"
   ]
  },
  {
   "cell_type": "code",
   "execution_count": 28,
   "metadata": {},
   "outputs": [
    {
     "name": "stdout",
     "output_type": "stream",
     "text": [
      "##### BINARY GLOBAL INDICES #####\n",
      "\n",
      "Average Clustering Coefficient: 0.163\n",
      "Average Path Length: 0.099\n",
      "\n",
      "##### BINARY LOCAL INDICES #####\n",
      "\n",
      "Degree (first 10): \t [('Oz', 73), ('Iz', 71), ('P8', 69), ('Po4', 68), ('C4', 64), ('Poz', 56), ('Fc3', 52), ('P4', 52), ('P6', 52), ('Po8', 48)] \n",
      "\n",
      "In-Degree (first 10): \t [('Oz', 63), ('Iz', 63), ('P8', 61), ('Po4', 61), ('C4', 54), ('Poz', 48), ('P4', 43), ('P6', 43), ('Cp6', 39), ('P7', 39)] \n",
      "\n",
      "Out-Degree (first 10): \t [('Af7', 20), ('Fp1', 19), ('Fpz', 18), ('Fp2', 18), ('Af3', 17), ('Afz', 17), ('F7', 16), ('F5', 16), ('F3', 16), ('Fc5', 15)] \n",
      "\n"
     ]
    }
   ],
   "source": [
    "closed_eyes_gti.compute_connectivity(freq=10, threshold=0.2, method=\"DTF\")\n",
    "\n",
    "avg_cl_coef, avg_path_len = closed_eyes_gti.compute_global_indices(True)\n",
    "print(\"##### BINARY GLOBAL INDICES #####\\n\")\n",
    "print(\"Average Clustering Coefficient: %.3f\" % (avg_cl_coef))\n",
    "print(\"Average Path Length: %.3f\" % (avg_path_len))\n",
    "\n",
    "degree, in_degree, out_degree = closed_eyes_gti.compute_local_indices(True)\n",
    "print(\"\\n##### BINARY LOCAL INDICES #####\\n\")\n",
    "print(\"Degree (first 10): \\t\", degree[:10], \"\\n\")\n",
    "print(\"In-Degree (first 10): \\t\", in_degree[:10], \"\\n\")\n",
    "print(\"Out-Degree (first 10): \\t\", out_degree[:10], \"\\n\")"
   ]
  }
 ],
 "metadata": {
  "kernelspec": {
   "display_name": "Python 3",
   "language": "python",
   "name": "python3"
  },
  "language_info": {
   "codemirror_mode": {
    "name": "ipython",
    "version": 3
   },
   "file_extension": ".py",
   "mimetype": "text/x-python",
   "name": "python",
   "nbconvert_exporter": "python",
   "pygments_lexer": "ipython3",
   "version": "3.8.6"
  }
 },
 "nbformat": 4,
 "nbformat_minor": 4
}
